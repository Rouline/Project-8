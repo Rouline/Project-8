{
  "nbformat": 4,
  "nbformat_minor": 0,
  "metadata": {
    "colab": {
      "name": "assignment8.ipynb",
      "provenance": [],
      "collapsed_sections": []
    },
    "kernelspec": {
      "name": "python3",
      "display_name": "Python 3"
    },
    "language_info": {
      "name": "python"
    }
  },
  "cells": [
    {
      "cell_type": "code",
      "metadata": {
        "colab": {
          "base_uri": "https://localhost:8080/"
        },
        "id": "-XFUSyZzZtCi",
        "outputId": "8b5c884b-2b04-496c-bac1-e0f81a4e28d1"
      },
      "source": [
        "import json, requests\n",
        "data='https://raw.githubusercontent.com/normansimonr/Dumb-Cogs/master/lolz/data/tranzlashun.json'\n",
        "resp=requests.get(data)\n",
        "dictionary=json.loads(resp.text)\n",
        "#print(dictionary)\n",
        "\n",
        "dictionary = {\n",
        "    \"Marijuan\": \"Ndukulu\",\n",
        "    \"Gang\": \"Geri\",\n",
        "    \"Ciggarrette\": \"Gife\",\n",
        "    \"Money\": \"Dache\",\n",
        "    \"Pocket\": \"Mbosho\",\n",
        "    \"Friend\": \"Fafiri\",\n",
        "    \"Scavenge\": \"Hamoch\",\n",
        "    \"Tea\": \"Icha\",\n",
        "    \"Come\": \"Kamuthe\",\n",
        "    \"Player\": \"Lovito\",\n",
        "    \"Rastamen\": \"Mabingi\",\n",
        "    \"Judge\": \"Jajiko\",\n",
        "    \"Job\": \"Jobiso\"\n",
        "}\n",
        "word = input(\"Original word:\")\n",
        "if word in dictionary:\n",
        "  print(\"The translation is:\", dictionary[word])\n",
        "else:\n",
        "  print(\"sory, the word has no translation in the dictionary.\")\n",
        "\n",
        "f = open(\"dictionary\", \"a\")\n",
        "f.write(str({\n",
        "    \"Marijuan\": \"Ndukulu\",\n",
        "    \"Gang\": \"Geri\",\n",
        "    \"Ciggarrette\": \"Gife\",\n",
        "    \"Money\": \"Dache\",\n",
        "    \"Pocket\": \"Mbosho\",\n",
        "    \"Friend\": \"Fafiri\",\n",
        "    \"Scavenge\": \"Hamoch\",\n",
        "    \"Tea\": \"Icha\",\n",
        "    \"Come\": \"Kamuthe\",\n",
        "    \"Player\": \"Lovito\",\n",
        "    \"Rastamen\": \"Mabingi\",\n",
        "    \"Judge\": \"Jajiko\",\n",
        "    \"Job\": \"Jobiso\"\n",
        "}))\n",
        "f.close()\n",
        "\n",
        "#open and read the file after the appending:\n",
        "f = open(\"dictionary\", \"r\")\n",
        "print(f.read())\n",
        "f.close() \n"
      ],
      "execution_count": null,
      "outputs": [
        {
          "output_type": "stream",
          "text": [
            "Original word:Tea\n",
            "The translation is: Icha\n",
            "{'Marijuan': 'Ndukulu', 'Gang': 'Geri', 'Ciggarrette': 'Gife', 'Money': 'Dache', 'Pocket': 'Mbosho', 'Friend': 'Fafiri', 'Scavenge': 'Hamoch', 'Tea': 'Icha', 'Come': 'Kamuthe', 'Player': 'Lovito', 'Rastamen': 'Mabingi', 'Judge': 'Jajiko', 'Job': 'Jobiso'}\n"
          ],
          "name": "stdout"
        }
      ]
    }
  ]
}